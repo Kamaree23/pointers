{
 "cells": [
  {
   "cell_type": "markdown",
   "metadata": {},
   "source": [
    "# Algorithms, Binary Search & Linked Lists"
   ]
  },
  {
   "cell_type": "markdown",
   "metadata": {},
   "source": [
    "## Tasks Today:\n",
    " \n",
    "1) <b>In-Place Algorithms</b> <br>\n",
    " &nbsp;&nbsp;&nbsp;&nbsp; a) Syntax <br>\n",
    " &nbsp;&nbsp;&nbsp;&nbsp; a) Out of Place Algorithm <br>\n",
    " &nbsp;&nbsp;&nbsp;&nbsp; b) In-Class Exercise #1 <br>\n",
    "2) <b>Two Pointers</b> <br>\n",
    "3) <b>Linked Lists</b> <br>\n",
    "4) <b>Merge Sort</b> <br>\n",
    " &nbsp;&nbsp;&nbsp;&nbsp; a) Video on Algorithms <br>\n",
    " &nbsp;&nbsp;&nbsp;&nbsp; b) How it Works <br>\n",
    "5) <b>Exercises</b> <br>\n",
    " &nbsp;&nbsp;&nbsp;&nbsp; a) Exercise #1 - Reverse a List in Place Using an In-Place Algorithm <br>\n",
    " &nbsp;&nbsp;&nbsp;&nbsp; b) Exercise #2 - Find Distinct Words <br>\n",
    " &nbsp;&nbsp;&nbsp;&nbsp; c) Exercise #3 - Write a program to implement a Linear Search Algorithm. <br>"
   ]
  },
  {
   "cell_type": "markdown",
   "metadata": {},
   "source": [
    "## In-Place Algorithms"
   ]
  },
  {
   "cell_type": "markdown",
   "metadata": {},
   "source": [
    "#### Syntax"
   ]
  },
  {
   "cell_type": "code",
   "execution_count": 10,
   "metadata": {},
   "outputs": [
    {
     "name": "stdout",
     "output_type": "stream",
     "text": [
      "before swap [1, 11, 22, 34]\n",
      "after swap [1, 34, 22, 11]\n"
     ]
    }
   ],
   "source": [
    "#swap algoritham\n",
    "def swap(nums, i1, i2, i3):\n",
    "    nums[i1], nums[i2] = nums[i2], nums[i1]\n",
    "    # temp = nums[1]\n",
    "    # nums[i1] = nums[i2]\n",
    "    # nums[i2] = temp\n",
    "\n",
    "l1 = [1,11,22,34]\n",
    "print(f'before swap {l1}')\n",
    "swap(l1, 1, 3)\n",
    "print(f'after swap {l1}')\n"
   ]
  },
  {
   "cell_type": "markdown",
   "metadata": {},
   "source": [
    "#### Out of Place Algorithm"
   ]
  },
  {
   "cell_type": "code",
   "execution_count": 4,
   "metadata": {},
   "outputs": [
    {
     "name": "stdout",
     "output_type": "stream",
     "text": [
      "before swap [1, 34, 22, 11]\n",
      "after swap [1, 34, 22, 11]\n"
     ]
    }
   ],
   "source": [
    "\n",
    "def swap(nums, i1, i2):\n",
    "    \n",
    "    copy = nums[:]\n",
    "    copy[i1], copy[i2] = copy[i2], copy[i1]\n",
    "    l1 = [1,11,22,34]\n",
    "print(f'before swap {l1}')\n",
    "swap(l1, 1, 3)\n",
    "print(f'after swap {l1}')\n"
   ]
  },
  {
   "cell_type": "markdown",
   "metadata": {},
   "source": [
    "#### In-Class Exercise #1 <br>\n",
    "<p>Write a function that takes in four arguments (list, index1, index2, index3), and swaps those three positions in the list passed in.</p>"
   ]
  },
  {
   "cell_type": "code",
   "execution_count": 19,
   "metadata": {},
   "outputs": [
    {
     "name": "stdout",
     "output_type": "stream",
     "text": [
      "[10, 4, 4, 8, 3, 2, 6]\n"
     ]
    }
   ],
   "source": [
    "chick = [10, 4, 3, 8, 4, 2, 6]\n",
    "def swapper(list, in1, in2, in3):\n",
    "    list[in1], list[in2], list[in3] = list[in2], list[in3], list[in1]\n",
    "\n",
    "swapper(chick, 2 ,1, 4)\n",
    "print(chick)    \n",
    "\n"
   ]
  },
  {
   "cell_type": "markdown",
   "metadata": {},
   "source": [
    "## Two Pointers"
   ]
  },
  {
   "cell_type": "markdown",
   "metadata": {},
   "source": [
    "#### Syntax"
   ]
  },
  {
   "cell_type": "code",
   "execution_count": 27,
   "metadata": {},
   "outputs": [
    {
     "name": "stdout",
     "output_type": "stream",
     "text": [
      "[13, 33, 0, 2, 1, 29, 2, 4, 1]\n"
     ]
    }
   ],
   "source": [
    "# use two pointers to swap, can use a while loop in most cases\n",
    "# swapper function is also being used as a helper function\n",
    "def swapper(list, in1, in2):\n",
    "    list[in1], list[in2], = list[in2], list[in1]\n",
    "\n",
    "def twosie(nums):\n",
    "    # create the pointers\n",
    "    left = 0\n",
    "    right = len(nums)-1\n",
    "    #when do our points move / stop\n",
    "    while left < right:\n",
    "        swapper(nums, left, right)\n",
    "        left += 1\n",
    "        right -= 1\n",
    "\n",
    "rando = [1,4,2,29,1,2,0,33,13]\n",
    "\n",
    "twosie(rando)\n",
    "\n",
    "print(rando)\n"
   ]
  },
  {
   "cell_type": "markdown",
   "metadata": {},
   "source": [
    "#### Video of Algorithms <br>\n",
    "<p>Watch the video about algorithms.</p>\n",
    "\n",
    "https://www.youtube.com/watch?v=Q9HjeFD62Uk\n",
    "\n",
    "https://www.youtube.com/watch?v=kPRA0W1kECg\n",
    "\n",
    "https://www.youtube.com/watch?v=ZZuD6iUe3Pc"
   ]
  },
  {
   "cell_type": "markdown",
   "metadata": {},
   "source": [
    "# Sorting Algorithms"
   ]
  },
  {
   "cell_type": "markdown",
   "metadata": {},
   "source": [
    "#### Bubble Sort\n",
    "\n",
    "Worst Case: O(n^2) Time - O(1) Space"
   ]
  },
  {
   "cell_type": "code",
   "execution_count": 30,
   "metadata": {},
   "outputs": [
    {
     "name": "stdout",
     "output_type": "stream",
     "text": [
      "[16, 23, 42, 12, 21]\n",
      "\n",
      "[16, 23, 12, 42, 21]\n",
      "\n",
      "[16, 23, 12, 21, 42]\n",
      "\n",
      "[16, 12, 23, 21, 42]\n",
      "\n",
      "[16, 12, 21, 23, 42]\n",
      "\n",
      "[12, 16, 21, 23, 42]\n",
      "\n",
      "[12, 16, 21, 23, 42]\n"
     ]
    }
   ],
   "source": [
    "def swapper(list, in1, in2):\n",
    "    list[in1], list[in2], = list[in2], list[in1]\n",
    "\n",
    "def bubbleSort(nums):\n",
    "    isSorted = False\n",
    "    while not isSorted:\n",
    "        isSorted = True\n",
    "        for i in range(len(nums)-1):\n",
    "            if nums[i] > nums [i+1]:\n",
    "                swapper(nums, i, i+1)\n",
    "                print(f'{l1}\\n')\n",
    "                isSorted = False\n",
    "                \n",
    "\n",
    "\n",
    "l1 = [23,16,42,12,21]\n",
    "bubbleSort(l1)\n",
    "print(l1)\n"
   ]
  },
  {
   "cell_type": "markdown",
   "metadata": {},
   "source": [
    "##### Insertion Sort\n",
    "\n",
    "Worst Case: O(n^2) time - O(1)space"
   ]
  },
  {
   "cell_type": "code",
   "execution_count": 35,
   "metadata": {},
   "outputs": [
    {
     "name": "stdout",
     "output_type": "stream",
     "text": [
      "[12, 16, 21, 23, 42]\n"
     ]
    }
   ],
   "source": [
    "def swapper(list, in1, in2):\n",
    "    list[in1], list[in2], = list[in2], list[in1]\n",
    "\n",
    "def insrtionSort(nums):\n",
    "    for i in range(1,len(nums)):\n",
    "        j=i \n",
    "        while j > 0 and nums[j] < nums[j-1]:\n",
    "            swapper(nums, j, j-1)\n",
    "            j -= 1\n",
    "\n",
    "\n",
    "l1 = [23,16,42,12,21]\n",
    "insrtionSort(l1)\n",
    "print(l1)"
   ]
  },
  {
   "cell_type": "markdown",
   "metadata": {},
   "source": [
    "## Merge Sort"
   ]
  },
  {
   "cell_type": "markdown",
   "metadata": {},
   "source": [
    "#### How it Works"
   ]
  },
  {
   "cell_type": "code",
   "execution_count": 37,
   "metadata": {},
   "outputs": [
    {
     "name": "stdout",
     "output_type": "stream",
     "text": [
      " splitting [1, 3, 54, 2, 679, 12, 451, 11]\n",
      " splitting [1, 3, 54, 2]\n",
      " splitting [1, 3]\n",
      " splitting [1]\n",
      "merging, [1]\n",
      " splitting [3]\n",
      "merging, [3]\n",
      "merging, [1, 3]\n",
      " splitting [54, 2]\n",
      " splitting [54]\n",
      "merging, [54]\n",
      " splitting [2]\n",
      "merging, [2]\n",
      "merging, [2, 54]\n",
      "merging, [1, 2, 3, 2]\n",
      " splitting [679, 12, 451, 11]\n",
      " splitting [679, 12]\n",
      " splitting [679]\n",
      "merging, [679]\n",
      " splitting [12]\n",
      "merging, [12]\n",
      "merging, [12, 679]\n",
      " splitting [451, 11]\n",
      " splitting [451]\n",
      "merging, [451]\n",
      " splitting [11]\n",
      "merging, [11]\n",
      "merging, [11, 451]\n",
      "merging, [11, 12, 451, 679]\n",
      "merging, [1, 2, 3, 2, 679, 12, 451, 11]\n"
     ]
    }
   ],
   "source": [
    "# Uses a three pointer \n",
    "# step 1: split everything into its own group\n",
    "# Step 2: from left to right, merge groups together\n",
    "# # step 3: while merging, place items into correct postition\n",
    "# #step 4 :  repeat\n",
    "\n",
    "def mergeSort(nums):\n",
    "    print(f' splitting' , nums)\n",
    "    #step 1 here(divide in even parts):\n",
    "    if len(nums)> 1:\n",
    "        mid = len(nums) //2\n",
    "        lefthalf = nums[:mid]\n",
    "        righthalf = nums[mid:]\n",
    "\n",
    "        # recursively repeat mergeSort to continue splitting\n",
    "        mergeSort(lefthalf)\n",
    "        mergeSort(righthalf)\n",
    "\n",
    "        #index pointers for the list\n",
    "        i = 0 \n",
    "        j = 0 \n",
    "        k = 0\n",
    "\n",
    "        #step two: compare left and right halves\n",
    "        while i < len(lefthalf) and j < len(righthalf):\n",
    "            if lefthalf[i] < righthalf[j]:\n",
    "                nums[k] = lefthalf[i]\n",
    "                i += 1\n",
    "            else:\n",
    "                nums[k] = righthalf[j]\n",
    "                j += 1\n",
    "            k += 1\n",
    "        while i < len(lefthalf):\n",
    "            nums[k] = lefthalf[i]\n",
    "            i += 1\n",
    "            k += 1\n",
    "        while j < len(righthalf):\n",
    "            j += 1\n",
    "            k += 1\n",
    "    print(f'merging,', nums)\n",
    "\n",
    "l1= [1,3,54,2,679,12,451,11]\n",
    "mergeSort(l1)"
   ]
  },
  {
   "cell_type": "markdown",
   "metadata": {},
   "source": [
    "# Binary Search\n",
    "\n",
    "The Binary Search algorithm works by finding the number in the middle of a given array and comparing it to the target. Given that the array is sorted\n",
    "\n",
    "* The worst case run time for this algorithm is `O(log(n))`"
   ]
  },
  {
   "cell_type": "code",
   "execution_count": 43,
   "metadata": {},
   "outputs": [
    {
     "data": {
      "text/plain": [
       "'I FOUND 3 at index 2'"
      ]
     },
     "execution_count": 43,
     "metadata": {},
     "output_type": "execute_result"
    }
   ],
   "source": [
    "# What you are looking through MUST BE SORTED\n",
    "def binarySearch(nums, target):\n",
    "    left = 0\n",
    "    right = len(nums)-1\n",
    "    while left <= right:\n",
    "        middle = (left + right) // 2\n",
    "        guess = nums[middle]\n",
    "        if target == guess:\n",
    "            return f'I FOUND {target} at index {middle}'\n",
    "        elif target < guess:\n",
    "            #right should move\n",
    "            right = middle - 1\n",
    "        elif target > guess:\n",
    "            left = middle + 1\n",
    "    return 'what you are looking for doesn\\'t exist'\n",
    "\n",
    "binarySearch([1,2,3,4,5,6,7,8,11,54,57], 3)\n"
   ]
  },
  {
   "cell_type": "markdown",
   "metadata": {},
   "source": [
    "# Exercises"
   ]
  },
  {
   "cell_type": "markdown",
   "metadata": {},
   "source": [
    "### Exercise #1 <br>\n",
    "<p>Reverse the list below in-place using an in-place algorithm.<br>For extra credit: Reverse the strings at the same time.</p>"
   ]
  },
  {
   "cell_type": "code",
   "execution_count": null,
   "metadata": {},
   "outputs": [],
   "source": [
    "words = ['this' , 'is', 'a', 'sentence', '.']\n",
    "\n",
    "def swaparoo(lst, n1, n2, n3, n4, n5):\n",
    "    lst[n1], lst[n2], lst[n3], lst[n4], lst[n5] = lst[n5], lst[n4], lst[n3], lst[n2], lst[n1]\n",
    "    \n"
   ]
  },
  {
   "cell_type": "markdown",
   "metadata": {},
   "source": [
    "### Exercise #2 <br>\n",
    "<p>Create a function that counts how many distinct words are in the string below, then outputs a dictionary with the words as the key and the value as the amount of times that word appears in the string.<br>Should output:<br>{'a': 5,<br>\n",
    " 'abstract': 1,<br>\n",
    " 'an': 3,<br>\n",
    " 'array': 2, ... etc...</p>"
   ]
  },
  {
   "cell_type": "code",
   "execution_count": null,
   "metadata": {},
   "outputs": [],
   "source": [
    "a_text = 'In computing, a hash table hash map is a data structure which implements an associative array abstract data type, a structure that can map keys to values. A hash table uses a hash function to compute an index into an array of buckets or slots from which the desired value can be found'\n",
    "\n",
    "for word in words:\n",
    "    if word in counts:\n",
    "        counts[word] +=1\n",
    "    else:\n",
    "        "
   ]
  },
  {
   "cell_type": "markdown",
   "metadata": {},
   "source": [
    "## Exercise #3\n",
    "\n",
    "Write a program to implement a Linear Search Algorithm. Also in a comment, write the Time Complexity of the following algorithm.\n",
    "\n",
    "#### Hint: Linear Searching will require searching a list for a given number. "
   ]
  },
  {
   "cell_type": "code",
   "execution_count": 1,
   "metadata": {},
   "outputs": [
    {
     "data": {
      "text/plain": [
       "4"
      ]
     },
     "execution_count": 1,
     "metadata": {},
     "output_type": "execute_result"
    }
   ],
   "source": []
  },
  {
   "cell_type": "code",
   "execution_count": null,
   "metadata": {},
   "outputs": [],
   "source": []
  }
 ],
 "metadata": {
  "kernelspec": {
   "display_name": "Python 3.10.7 64-bit",
   "language": "python",
   "name": "python3"
  },
  "language_info": {
   "codemirror_mode": {
    "name": "ipython",
    "version": 3
   },
   "file_extension": ".py",
   "mimetype": "text/x-python",
   "name": "python",
   "nbconvert_exporter": "python",
   "pygments_lexer": "ipython3",
   "version": "3.10.7"
  },
  "vscode": {
   "interpreter": {
    "hash": "d1529176af45bd839d0be8652951a4338606a53b18db8848f1c72c8e09f0d88f"
   }
  }
 },
 "nbformat": 4,
 "nbformat_minor": 2
}
